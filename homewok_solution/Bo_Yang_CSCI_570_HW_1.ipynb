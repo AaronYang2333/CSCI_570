{
 "cells": [
  {
   "cell_type": "markdown",
   "metadata": {},
   "source": [
    "### Bo Yang (Aaron) USCID: 7526922531"
   ]
  },
  {
   "cell_type": "markdown",
   "metadata": {},
   "source": [
    "## USC CSCI 570 Homework1 Date: 2020-07-03"
   ]
  },
  {
   "cell_type": "markdown",
   "metadata": {},
   "source": [
    "## 1. Graded Problems"
   ]
  },
  {
   "cell_type": "markdown",
   "metadata": {},
   "source": [
    "### 1.State True/False: An instance of the stable marriage problem has a unique stable matching if and only if the version of the Gale-Shapely algorithm where the male proposes and the version where the female proposes both yield the exact same matching."
   ]
  },
  {
   "cell_type": "markdown",
   "metadata": {},
   "source": [
    "> ***True*** <br>\n",
    "> Given the Gale-Shapely algorithm, every man will propose a woman based on his preference list. If the woman ***w*** is the first woman in man ***m's*** preference list. man ***m*** will propose to woman ***w*** without hesitation. Luckily, man ***m*** is also the first choice of woman ***w***, since man ***m*** ranked first in her preference list. So they will have a deal. When other men propose to woman ***w***, ***w*** will reject. Since there is no one's ranking is higher than man ***m*** in her preference list. So we can come to the conclusion that this statement is true."
   ]
  },
  {
   "cell_type": "markdown",
   "metadata": {},
   "source": [
    "### 2. A stable roommate problem with 4 students a, b, c, d is defined as follows. Each student ranks the other three in strict order of preference. A matching is defined as the separation of the students into two disjoint pairs. A matching is stable if no two separated students prefer each other to their current roommates. Does a stable matching always exist? If yes, give a proof. Otherwise give an example roommate preference where no stable matching exists."
   ]
  },
  {
   "cell_type": "markdown",
   "metadata": {},
   "source": [
    "> ***A stable matching might not exist*** <br>\n",
    "> Here is a counterexample. \n",
    "```python\n",
    "[\n",
    "\ta: [b, c, d],\n",
    "\tb: [c, a, d],\n",
    "\tc: [a, b, d],\n",
    "\td: [a, b, c]\n",
    "]\n",
    "```\n",
    "> Based on this preference list, we can run the Gale-Shapely algorithm to find the *' stable matching '*. And finally, we get a result pairs => [(***b***, ***c***), (***a***, ***d***)]. But pair (***a***, ***d***) is not stable in this context since for anyone who dated with ***d***, another member has a higher rank over ***d***, implying that ***d's*** current roommate prefers other than ***d***, and this relationship will break. ***E.G.*** (***a***,  ***c***) is a more favorable pairing than (***a***, ***d***). If we keep pair (***a***,  ***c***), the (***b***, ***d***) will has the same problem. they won't stop. So, we have to say, there is no stable matching in this given context."
   ]
  },
  {
   "cell_type": "markdown",
   "metadata": {},
   "source": [
    "### 3. Solve Kleinberg and Tardos, Chapter 1, Exercise 4."
   ]
  },
  {
   "cell_type": "markdown",
   "metadata": {},
   "source": [
    "Gale and Shapley published their paper on the Stable Matching Problem in 1962; but a version of their algorithm had already been in use for ten years by the National Resident Matching Program, for the problem of assigning medical residents to hospitals.\n",
    "\n",
    "Basically, the situation was the following. There were ***m*** hospitals, each with a certain number of available positions for hiring residents. There were ***n*** medical students graduating in a given year, each interested in joining one of the hospitals. Each hospital had a ranking of the students in order of preference, and each student had a ranking of the hospitals in order of preference. <br>\n",
    "\n",
    "We will assume that there were more students graduating than there were slots available in the ***m*** hospitals.\n",
    "\n",
    "The interest, naturally, was in finding a way of assigning each student to at most one hospital, in such a way that all available positions in all hospitals were filled. (Since we are assuming a surplus of students, there would be some students who do not get assigned to any hospital.)\n",
    "\n",
    "We say that an assignment of students to hospitals is stable if neither of the following situations arises.\n",
    "\n",
    "- First type of instability: There are students ***s*** and ***s′***, and a hospital ***h***, <br>\n",
    "so that\n",
    "\t- ***s*** is assigned to ***h***, and\n",
    "\t- ***s′*** is assigned to no hospital, and\n",
    "\t- ***h*** prefers ***s′*** to ***s***.\n",
    "    \n",
    "\n",
    "- Second type of instability: There are students ***s*** and ***s′***, and hospitals ***h*** and ***h′***, so that <br>\n",
    "\t- ***s*** is assigned to ***h***, and\n",
    "\t- ***s′*** is assigned to ***h′***, and\n",
    "\t- ***h*** prefers ***s′*** to ***s***, and\n",
    "\t- ***s′*** prefers ***h*** to ***h′***.\n",
    "    \n",
    "    \n",
    "So we basically have the Stable Matching Problem, except that<br>\n",
    "- (i) hospitals generally want more than one resident, and<br>\n",
    "- (ii) there is a surplus of medical students.<br>\n",
    "\n",
    "\n",
    "Show that there is always a stable assignment of students to hospitals, and give an algorithm to find one."
   ]
  },
  {
   "cell_type": "markdown",
   "metadata": {},
   "source": [
    "> ***Answer:*** <br>\n",
    "> This hospital positions and students matching problem is similar to the marriage matching problem.\n",
    "So base on the same logic, we can check whether the remaining position slots are zero in each iteration. and accept or reject every student in its preference list.\n",
    "\n",
    "> so the pseudocode will be this:\n",
    "\n",
    "```python\n",
    "while hospital h still has some available positions:\n",
    "\tinvite top preference student s join hospital h\n",
    "    \n",
    "\tif student sis avaiable:\n",
    "\t\ts accept the offer, and go to h\n",
    "\telse:\n",
    "\t\t# decision power is on student's hands\n",
    "\t\t# denote 'new_h' is the new hospital who trying to hire he/her\n",
    "\t\t# denote 'cur_h' is the current hosptial which student s is working for right now\n",
    "\t\tcompare both hosptial(new_h, cur_h) ranking in student s preference list\n",
    "\t\tif new_h`s ranking is higher than cur_h`s ranking: \n",
    "\t\t\tquit and accpet new offer\n",
    "\t\telse:\n",
    "\t\t\treject and still working for current hospital\n",
    "\t\tend if\n",
    "\tend if\n",
    "end while\n",
    "```"
   ]
  },
  {
   "cell_type": "markdown",
   "metadata": {},
   "source": [
    "### 4. N men and N women were participating in a stable matching process in a small town named Walnut Grove. A stable matching was found after the matching process finished and everyone got engaged. However, a man named <span style=\"color:blue\">Almazo Wilder</span>, who is engaged with a woman named <span style=\"color:red\">Nelly Oleson</span>, suddenly changes his mind by preferring another woman named <span style=\"color:pink\">Laura Ingles</span>, who was originally ranked right below Nelly in his preference list, therefore Laura and <span style=\"color:red\">Nelly</span> swapped their positions in <span style=\"color:blue\">Almanzo's</span> preference list. Your job now is to find a new matching for all of these people and to take into account the new preference of <span style=\"color:blue\">Almanzo</span>, but you don’t want to run the whole process from the beginning again, and want to take advantage of the results you currently have from the previous matching. \n",
    "### Describe your algorithm for this problem. Assume that no woman gets offended if she got refused and then gets proposed by the same person again."
   ]
  },
  {
   "cell_type": "markdown",
   "metadata": {},
   "source": [
    "> ***Answer:*** <br>\n",
    "> There are at least two suitation might happen:\n",
    "> 1. Almanzo will accpeted by Laura.\n",
    ">> when <span style=\"color:blue\">Almanzo</span> broke up with <span style=\"color:red\">Nelly</span> (his current girlfriend) and proposed to <span style=\"color:pink\">Laura</span>, and <span style=\"color:pink\">Laura</span> accepted it. This would cause <span style=\"color:pink\">Laura</span> has to break up with his current boyfriend. This will definitely make an instabilities problem. like a chain reaction, other's relationship breakdown will affect the rest people's marriages. So if we don't want to build the algorithm from scratch, we need to collect these unlucky men into the 'free pool' again and run the G-S algorithm until every man engages with somewhat new a woman. This could might lead to bigger chaos, and might need to rearrange all people's matching in the worst case. Luckily, this matching process still has a possibility that will end very soon. if <span style=\"color:red\">Nelly</span> is willing to accept <span style=\"color:pink\">Laura's</span> ex-boyfriend.\n",
    "> 2. Almanzo will not accpeted by Laura.\n",
    ">>  when <span style=\"color:blue\">Almanzo</span> were rejected by <span style=\"color:pink\">Laura</span>, there is no candidate for him to choose except his ex-girlfriend, <span style=\"color:red\">Nelly</span>. So he has to go back to his home and beg <span style=\"color:red\">Nelly's</span> forgiveness. We don't need to run the algorithm. and this will be a very sad story."
   ]
  },
  {
   "cell_type": "markdown",
   "metadata": {},
   "source": [
    "### 5. Solve Kleinberg and Tardos, Chapter 2, Exercise 3."
   ]
  },
  {
   "cell_type": "markdown",
   "metadata": {},
   "source": [
    "Take the following list of functions and arrange them in ascending order of growth rate. That is, if function ***g(n)*** immediately follows function ***f(n)*** in your list, then it should be the case that ***f(n)*** is ***O(g(n))***"
   ]
  },
  {
   "cell_type": "markdown",
   "metadata": {},
   "source": [
    "$f_{1}(n) = n^{2.5}$<br>\n",
    "$f_{2}(n) = \\sqrt{2n}$<br>\n",
    "$f_{3}(n) = n + 10$<br>\n",
    "$f_{4}(n) = 10^{n}$<br>\n",
    "$f_{5}(n) = 100^{n}$<br>\n",
    "$f_{6}(n) = n^{2}*log n$ <br>\n",
    "\n",
    "\n",
    "> in ascending order of growth, the result list will be $f_{2},f_{3},f_{6},f_{1},f_{4},f_{5}$\n",
    "\n",
    "and \n",
    "![6func](https://user-images.githubusercontent.com/24391143/86522253-e8ef3880-be0f-11ea-9f3c-75be330ec44a.png)\n"
   ]
  },
  {
   "cell_type": "markdown",
   "metadata": {},
   "source": [
    "### 6. Solve Kleinberg and Tardos, Chapter 2, Exercise 4."
   ]
  },
  {
   "cell_type": "markdown",
   "metadata": {},
   "source": [
    "Take the following list of functions and arrange them in ascending order of growth rate. That is, if function ***g(n)*** immediately follows function ***f(n)*** in your list, then it should be the case that ***f(n)*** is ***O(g(n))***."
   ]
  },
  {
   "cell_type": "markdown",
   "metadata": {},
   "source": [
    "$g_{1}(n) = 2^{\\sqrt{log n}}$<br>\n",
    "$g_{2}(n) = 2^{n}$<br>\n",
    "$g_{3}(n) = n^{4/3}$<br>\n",
    "$g_{4}(n) = n(log n)^{3}$<br>\n",
    "$g_{5}(n) = n^{log n}$<br>\n",
    "$g_{6}(n) = 2^{2^{n}}$<br>\n",
    "$g_{7}(n) = 2^{n^{2}}$<br>\n",
    "\n",
    "> in ascending order of growth, the result list will be $g_{1}g_{3},g_{4},g_{5},g_{2},g_{7},g_{6}$\n",
    "\n",
    "![7func](https://user-images.githubusercontent.com/24391143/86522539-6ae16080-be14-11ea-9bf0-95955e7047f0.png)"
   ]
  },
  {
   "cell_type": "markdown",
   "metadata": {},
   "source": [
    "### 7. Solve Kleinberg and Tardos, Chapter 2, Exercise 5."
   ]
  },
  {
   "cell_type": "markdown",
   "metadata": {},
   "source": [
    "Assume you have functions ***f*** and ***g*** such that ***f(n)*** is ***O(g(n))***. For each of the following statements, decide whether you think it is true or false and give a proof or counterexample.\n",
    "1. $log_{2}f(n)$ is $O(log_{2}g(n)).$\n",
    "2. $2^{f(n)}$ is $O(2^{g(n)}).$\n",
    "3. $f(n)^{2}$ is $O(g(n)^{2}).$"
   ]
  },
  {
   "cell_type": "markdown",
   "metadata": {},
   "source": [
    "1. ***False***\n",
    "> As we know, the big O annotation is the asymptotic upper bound. $f(n) = O(g(n))$. if we have $f(n) = c$, a constant number, which is greater than 2. $g(n) = 1$, since $c = O(1)$. <br> \n",
    "$log_{2}c$ is not equal to $log_{2}1 = 0$. Therefore, we cannot say $log_{2}f(n) = O(log_{2}g(n)).$<br>\n",
    "But if there exists some ***n***, make the $g(n)$ greater than 2, $O(log_{2}g(n))$ won't equal to ***zero 0*** any more, at that time, we can say, this statement is True.\n",
    "\n",
    "\n",
    "2. ***False***\n",
    "> For the same reason,  $f(n) = O(g(n))$. let's say $f(n) = 2n$, so the $g(n) = n$. since $2n = O(n)$, right. next, we take these number back to our statement. $2^{f(n)} = 2^{2n} = 4^{n}$ and $2^{g(n)} = 2^{n}$. <br>\n",
    "we cannot say $4^{n} = O(2^{n})$, since $4^{n} = O(4^{n})$\n",
    "\n",
    "3. ***True***\n",
    "> For the same reason,  $f(n) = O(g(n))$. there exists positive constants ***c*** and $n_0$\n",
    "such that $f(n) ≤ cg(n)$; $∀n ≥ n_0$. This implies $f(n)^{2} ≤ c^{2}g(n)^{2}$; $∀n ≥\n",
    "n_0$, which in turn implies that $f(n)^{2} = O(g(n)^{2})$."
   ]
  },
  {
   "cell_type": "markdown",
   "metadata": {},
   "source": [
    "### 8. Which of the following statements are true?\n",
    "1. If $f$, $g$, and $h$ are positive increasing functions with $f$ in **O(h)** and g in **Ω(h)**, then the function $f + g$ must be in **Θ(h)**. \n",
    "2. Given a problem with input of size ***n***, a solution with **O(n)** time complexity always costs less in computing time than a solution with **O($n^2$)** time complexity. \n",
    "3. $F(n)$ = $4n$ + $\\sqrt{3n}$ is both **O(n)** and **Θ(n)**. \n",
    "4. For a search starting at node $s$ in graph $G$, the DFS Tree is never as the same as the BFS tree. \n",
    "5. BFS can be used to find the shortest path between any two nodes in a non-weighted graph"
   ]
  },
  {
   "cell_type": "markdown",
   "metadata": {},
   "source": [
    "1. ***False***\n",
    "> The ***Theorem 2.4*** said that ***f*** and ***g*** are two functions such that for some other function ***h***, we have ***f = O(h)*** and ***g = O(h)***. Then ***f + g = O(h)***\n",
    "\n",
    "2. ***False***\n",
    "> The ***O(n)*** annotation just tells you the maxinum of time that your algorithm might cost. if we really want to compare which algorithmes runs fast. we also need to provide the lower bound annotation ***Ω***.\n",
    "\n",
    "3. ***True***\n",
    "> Since The dominant term is $4n$, which is obviously both $O(n)$ and $Ω(n)$.\n",
    "\n",
    "4. ***False***\n",
    "> if the graph ***G*** only has three nodes ***∈*** {***A, B, C***}. and its edges are ***A -> B*** and ***A -> C***. <br> using BFS or DFS to traverse G will generate the same result.\n",
    "\n",
    "5. ***True***\n",
    "> That's the one problem that BFS trying to solve.\n"
   ]
  },
  {
   "cell_type": "markdown",
   "metadata": {},
   "source": [
    "### 9. Solve Kleinberg and Tardos, Chapter 3, Exercise 2."
   ]
  },
  {
   "cell_type": "markdown",
   "metadata": {},
   "source": [
    "Give an algorithm to detect whether a given undirected graph contains a cycle. If the graph contains a cycle, then your algorithm should output one. (It should not output all cycles in the graph, just one of them.) The running time of your algorithm should be ***O(m + n)*** for a graph with ***n*** nodes and ***m*** edges."
   ]
  },
  {
   "cell_type": "markdown",
   "metadata": {},
   "source": [
    "> ***Answer:*** <br>\n",
    "> Based on this [article](https://www.geeksforgeeks.org/union-find/) said, we can use disjoint-set to store graph, and use union-find algoirthm to detect whether an undirected graph contains a cycle or not.\n",
    "\n",
    "![cycle](https://user-images.githubusercontent.com/24391143/86624249-d859d200-bf77-11ea-83a4-230dc115aa03.PNG)\n",
    "\n",
    "> the following python code has been tested.\n",
    "\n",
    "```python\n",
    "\n",
    "def cmp(key1, key2):\n",
    "    return (key1, key2) if key1 < key2 else (key2, key1)\n",
    "\n",
    "\n",
    "def find_parent(record, node):\n",
    "    if record[node] != node:\n",
    "        record[node] = find_parent(record, record[node])\n",
    "    return record[node]\n",
    "\n",
    "\n",
    "def naive_union(record, edge):\n",
    "    u, v = find_parent(record, edge[0]), find_parent(record, edge[1])\n",
    "    record[u] = v\n",
    "\n",
    "\n",
    "def has_cycle(graph, init_node):\n",
    "    edge_dict = {}\n",
    "    for node in graph.keys():\n",
    "        edge_dict.update({cmp(node, k): v for k, v in graph[node].items()})\n",
    "    connected_records = {key: key for key in graph.keys()}\n",
    "\n",
    "    for edge_pair in list(edge_dict.keys()):\n",
    "        if find_parent(connected_records, edge_pair[0]) != \\\n",
    "                find_parent(connected_records, edge_pair[1]):\n",
    "            naive_union(connected_records, edge_pair)\n",
    "        else:\n",
    "            return True\n",
    "    return False\n",
    "\n",
    "if __name__ == '__main__':\n",
    "    graph_dict = {\n",
    "        \"A\": {\"B\": 7, \"D\": 5},\n",
    "        \"B\": {\"A\": 7, \"C\": 8, \"D\": 9, \"E\": 5},\n",
    "        \"C\": {\"B\": 8, \"E\": 5},\n",
    "        \"D\": {\"A\": 5, \"B\": 9, \"E\": 15, \"F\": 6},\n",
    "        \"E\": {\"B\": 7, \"C\": 5, \"D\": 15, \"F\": 8, \"G\": 9},\n",
    "        \"F\": {\"D\": 6, \"E\": 8, \"G\": 11},\n",
    "        \"G\": {\"E\": 9, \"F\": 11}\n",
    "    }\n",
    "\n",
    "    print(has_cycle(graph_dict, \"D\"))  # True\n",
    "    \n",
    "```"
   ]
  },
  {
   "cell_type": "markdown",
   "metadata": {},
   "source": [
    "## 2. Practice Problems"
   ]
  },
  {
   "cell_type": "markdown",
   "metadata": {},
   "source": [
    "### 1. Reading Assignment: Kleinberg and Tardos, Chapters 1, 2, and 3."
   ]
  },
  {
   "cell_type": "markdown",
   "metadata": {},
   "source": [
    "### 2. Solve Kleinberg and Tardos, Chapter 1, Exercise 1."
   ]
  },
  {
   "cell_type": "markdown",
   "metadata": {},
   "source": [
    "#### Decide whether you think the following statement is true or false. If it is true, give a short explanation. If it is false, give a counterexample.\n",
    "\n",
    "True or false? In every instance of the Stable Matching Problem, there is a stable matching containing a pair ***(m, w)*** such that ***m*** is ranked first on the preference list of ***w*** and ***w*** is ranked first on the preference list of ***m***."
   ]
  },
  {
   "cell_type": "markdown",
   "metadata": {},
   "source": [
    "> **False** <br>\n",
    "> E.G. man and woman has such preference list. <br>man ***m ∈ {$m_{0}$, $m_{1}$, $m_{2}$}*** woman ***w ∈ {$w_{0}$, $w_{1}$, $w_{2}$}***. (man propose)\n",
    ">>  |$w_{0}$, $w_{1}$, $w_{2}$|<br>\n",
    ">>  |$w_{1}$, $w_{2}$, $w_{0}$| => **man_preference** <br>\n",
    ">>  |$w_{2}$, $w_{0}$, $w_{1}$|<br>\n",
    ">>\n",
    ">>  |$m_{2}$, $m_{1}$, $m_{0}$|<br>\n",
    ">>  |$m_{0}$, $m_{2}$, $m_{1}$| => **woman_preference** <br>\n",
    ">>  |$m_{1}$, $m_{0}$, $m_{2}$| <br>\n",
    ">>\n",
    ">> based on these two preference list, we can generate stable matching pair.<br>\n",
    "***($m_{0}$, $w_{0}$)***, ***($m_{1}$, $w_{1}$)***, ***($m_{1}$, $w_{1}$)***.<br>\n",
    "as you can see, the woman dated with each man is his first preference list, indeed. but those women are not very font of her current boyfriend. all of them put their boyfriend in the last position."
   ]
  },
  {
   "cell_type": "markdown",
   "metadata": {},
   "source": [
    "### 3. Solve Kleinberg and Tardos, Chapter 1, Exercise 2."
   ]
  },
  {
   "cell_type": "markdown",
   "metadata": {},
   "source": [
    "#### Decide whether you think the following statement is true or false. If it is true, give a short explanation. If it is false, give a counterexample.\n",
    "\n",
    "True or false? Consider an instance of the Stable Matching Problem in which there exists a man ***m*** and a woman ***w*** such that ***m*** is ranked first on the preference list of ***w*** and ***w*** is ranked first on the preference list of ***m***. Then in every stable matching ***S*** for this instance, the pair ***(m, w)*** belongs to ***S***."
   ]
  },
  {
   "cell_type": "markdown",
   "metadata": {},
   "source": [
    "> **True** <br>\n",
    "\n",
    "\n",
    "> Suppose there were a pair ***(m, w)*** meet those prerequirements,***m*** is ranked first on the preference list of ***w*** and ***w*** is ranked first on the preference list of ***m***, but in the end, the stable matching result didn't contain ***(m, w)***.\n",
    "\n",
    "> when ***m*** turns to propose, ***w*** will be his first choice, since woman ***w*** ranked first in his list. ***(m, w)*** generated. if no other men propose to her, the ***(m, w)*** should appear in the result. if another wooer appeared, the women ***m*** will compare both admirers, since the current boyfriend ***m*** ranked first in her list. so she will reject other's propose. the pair ***(m, w)*** will be survived. both situations will contract our assumption."
   ]
  },
  {
   "cell_type": "markdown",
   "metadata": {},
   "source": [
    "### 4. Solve Kleinberg and Tardos, Chapter 1, Exercise 3."
   ]
  },
  {
   "cell_type": "markdown",
   "metadata": {},
   "source": [
    "#### There are many other settings in which we can ask questions related to some type of “stability” principle. Here’s one, involving competition between two enterprises.\n",
    "\n",
    "Suppose we have two television networks, whom we’ll call ***A*** and ***B***. There are ***n*** prime-time programming slots, and each network has ***n*** TV shows. Each network wants to devise a schedule—an assignment of each show to a distinct slot—so as to attract as much market share as possible. \n",
    "\n",
    "Here is the way we determine how well the two networks perform relative to each other, given their schedules. Each show has a fixed rating, which is based on the number of people who watched it last year; we’ll assume that no two shows have exactly the same rating. A network wins a given time slot if the show that it schedules for the time slot has a larger rating than the show the other network schedules for that time slot. The goal of each network is to win as many time slots as possible. \n",
    "\n",
    "Suppose in the opening week of the fall season, Network ***A*** reveals a schedule ***S*** and Network ***B*** reveals a schedule ***T***. On the basis of this pair of schedules, each network wins certain time slots, according to the rule above. We’ll say that the pair of schedules ***(S, T)*** is stable if neither network can unilaterally change its own schedule and win more time slots. That is, there is no schedule ***S′*** such that Network ***A*** wins more slots with the pair ***(S′, T)*** than it did with the pair ***(S, T)***; and symmetrically, there is no schedule ***T′*** such that Network ***B*** wins more slots with the pair ***(S, T′)*** than it did with the pair ***(S, T)***. \n",
    "\n",
    "The analogue of Gale and Shapley’s question for this kind of stability is the following: For every set of TV shows and ratings, is there always a stable pair of schedules? Resolve this question by doing one of the following two things:\n",
    "1. give an algorithm that, for any set of TV shows and associated ratings, produces a stable pair of schedules; or\n",
    "2. give an example of a set of TV shows and associated ratings for which there is no stable pair of schedules."
   ]
  },
  {
   "cell_type": "markdown",
   "metadata": {},
   "source": [
    "> ***A stable matching might not exist*** <br>\n",
    "> Here is a counterexample. assume there are only two slot avaiable. And network A and B has two shows in their schedule, respectively.\n",
    "```python\n",
    "[     slot1, slot2\n",
    "\tA: [10,   20],\n",
    "\tB: [15,   25]\n",
    "]    B wins  B wins\n",
    "```\n",
    "> Based on this preference list, we can say that network B wins all two slots.\n",
    "But the network A change change its schedule unilaterally. its new schedule will be like this:\n",
    "```python\n",
    "[     slot1, slot2\n",
    "\tA: [20,   10],\n",
    "\tB: [15,   25]\n",
    "]    A wins  B wins\n",
    "```\n",
    "> Now, network A and B has a tie, which also means that previous pair is not stable."
   ]
  },
  {
   "cell_type": "markdown",
   "metadata": {},
   "source": [
    "### 5. Solve Kleinberg and Tardos, Chapter 2, Exercise 6."
   ]
  },
  {
   "cell_type": "markdown",
   "metadata": {},
   "source": [
    "Consider the following basic problem. You’re given an array $A$ consisting of $n$ integers ***A[1], A[2], ... A[n]***. You’d like to output a two-dimensional n-by-n array $B$ in which ***B[i, j] (for i < j)*** contains the sum of array entries ***A[i]*** through ***A[j]***—that is, the sum ***A[i]+ A[i + 1]+ ... + A[j]***.  The value of array entry ***B[i, j]*** is left unspecified whenever ***i ≥ j***, so it doesn’t matter what is output for these values.) <br>\n",
    "Here’s a simple algorithm to solve this problem\n",
    "\n",
    "```text\n",
    "For i = 1, 2, . . . , n\n",
    "\tFor j = i + 1, i + 2, . . . , n\n",
    "\t\tAdd up array entries A[i] through A[j]\n",
    "\t\tStore the result in B[i, j]\n",
    "\tEndfor\n",
    "Endfor\n",
    "```\n",
    "\n",
    "\n",
    "1. For some function ***f*** that you should choose, give a bound of the form ***O(f(n))*** on the running time of this algorithm on an input of size ***n*** (i.e., a bound on the number of operations performed by the algorithm). \n",
    "2. For this same function ***f***, show that the running time of the algorithm on an input of size ***n*** is also ***Ω(f(n))***. (This shows an asymptotically tight bound of ***Θ(f(n))*** on the running time.) \n",
    "3. Although the algorithm you analyzed in parts (1) and (2) is the most natural way to solve the problem—after all, it just iterates through the relevant entries of the array ***B***, filling in a value for each—it contains some highly unnecessary sources of inefficiency. Give a different algorithm to solve this problem, with an asymptotically better running time. In other words, you should design an algorithm with running time ***O(g(n))***, where ![lim](https://user-images.githubusercontent.com/24391143/86811324-a194c200-c032-11ea-80eb-b955905ccdee.png)\n",
    "\n"
   ]
  },
  {
   "cell_type": "markdown",
   "metadata": {},
   "source": [
    "1. This algoirthm will cost $O(n^3)$ at most.\n",
    "> after we convert the pseudocode into python.\n",
    "```python\n",
    "    \"\"\"\n",
    "    arr is the variable which represent array A\n",
    "    result is the dict which use to store the result, equals to B\n",
    "    \"\"\"\n",
    "    for i in range(1, n + 1):\n",
    "\t\tfor j in range(i + 1, n + 1):\n",
    "\t\t\ttemp_sum = sum(arr[i:j])\n",
    "\t\t\tresult[(i,j)] = temp_sum\n",
    "```\n",
    "> it is easy to notice that there are two loops before doing the actual sum operation. <br> \n",
    "when ***i = 1***, inner loop runs ***n-1*** times. <br> \n",
    "when ***i = 2***, inner loop runs ***n-2*** times. <br> \n",
    "...<br> \n",
    "when ***i = n - 2***, inner loop runs ***2*** time. <br> \n",
    "when ***i = n - 1***, inner loop runs ***1*** time. <br> \n",
    "when ***i = n***, inner loop runs ***0*** time. <br> \n",
    "So, two loops will cost ***sum(n-1, n-2, ... 1, 0) =*** $0.5n^2 - 0.5n$ = ***O($n^2$)*** time. and sum up the $a[i:j]$ will cost ***O(j-i+1)*** time. we just assume it will cost $O(n)$ time. About the assign the value ***temp_sum*** to the result, it costs only $O(1)$ time. Finally, this algoirthm will cost $O(n^3)$ at most.\n",
    "\n",
    "2. This algoirthm's asymptotic lower bound is also $Θ(n^3)$.\n",
    "> I think there is no difference between  $O(f(n))$ and $Θ(f(n))$. so I think the asymptotic lower bound is $Θ(n^3)$ as well.\n",
    "\n",
    "3. Basic thought is that we can take advantage of previous sum result to reduce the time complexity. My new algorithm will only cost $O(n^2)$ time.\n",
    "> we firstly compute the result of diagonal, and then use this result to fill out the upper triangular matrix.\n",
    "```python\n",
    "    for i in range(1, n + 1):\n",
    "        result[(i, i+1)] = arr[i] + arr[i + 1]\n",
    "    for k in range(2, n):\n",
    "        for i in range(1, n - k + 1):\n",
    "            j = i + k\n",
    "            result[(i, j)] = result[(i, j - 1)] + arr[j]\n",
    "```\n",
    "> in the first loop, iteration runs ***n*** times. and indexing in an array cost $O(1)$ time. so overall, first loop costs $O(n)$ time. <br>\n",
    "in the second loop, the actual logic operation also get value by index, which spend $O(1)$ time, so we only need to focus how many loops do I have.<br>\n",
    "when ***k = 2***, inner loop runs ***n-2*** times. <br> \n",
    "when ***k = 3***, inner loop runs ***n-3*** times. <br> \n",
    "...<br> \n",
    "when ***k = n - 2***, inner loop runs ***1*** time. <br> \n",
    "when ***k = n - 1***, inner loop runs ***0*** time. <br> \n",
    "So, the second loop will cost ***sum(n-2, n-3, ... 1, 0) =*** $0.5n^2 - 2n + 2$ = ***O($n^2$)*** time. since the second loop is the dominant part, Finally, this algoirthm will cost $O(n^2)$ at most."
   ]
  },
  {
   "cell_type": "markdown",
   "metadata": {},
   "source": [
    "### 6. Solve Kleinberg and Tardos, Chapter 3, Exercise 6."
   ]
  },
  {
   "cell_type": "markdown",
   "metadata": {},
   "source": [
    "We have a connected graph ***G = (V, E)***, and a specific vertex ***u ∈ V***. Suppose we compute a depth-first search tree rooted at ***u***, and obtain a tree **T** that includes all nodes of **G**. Suppose we then compute a breadth-first search tree rooted at ***u***, and obtain the same tree **T**. Prove that ***G = T***. (In other words, if **T** is both a depth-first search tree and a breadth-first search tree rooted at **u**, then **G** cannot contain any edges that do not belong to **T**.)"
   ]
  },
  {
   "cell_type": "markdown",
   "metadata": {},
   "source": [
    "> Let assume that ***G*** contains an edge ***e = (x,y)*** that not exist in result ***T***. \n",
    "Based on ***Theorem 3.7***, we know that one of ***x*** or ***y*** is an ancestor of the other, which means ***x*** and ***y*** are on different levels. Also, ***T*** is a BFS tree as well. given the ***Theorem 3.4***'s explanation, if edge ***(x,y)*** in the BFS tree, their level differ at most 1.  therefore we can know their level differ by exactly 1. However, combining that one of ***x*** or ***y*** is the ancestor of the other and that their level differ by 1 implies that the edge ***(x, y)*** is in the tree ***T***, which contradicts our assumption.\n",
    "\n",
    ">> ***Theorem 3.4*** Let T be a breadth-first search tree, let ***x*** and ***y*** be nodes in T belonging to layers $L_i$ and $L_j$ respectively, and let ***(x, y)*** be an edge of ***G***. Then ***i*** and ***j*** differ by at most 1.\n",
    "\n",
    ">> ***Theorem 3.7*** Let T be a depth-first search tree, let ***x*** and ***y*** be nodes in T, and let ***(x, y)*** be an edge of ***G*** that is not an edge of ***T***. Then one of ***x*** or ***y*** is an ancestor of the other"
   ]
  }
 ],
 "metadata": {
  "kernelspec": {
   "display_name": "Python 3",
   "language": "python",
   "name": "python3"
  },
  "language_info": {
   "codemirror_mode": {
    "name": "ipython",
    "version": 3
   },
   "file_extension": ".py",
   "mimetype": "text/x-python",
   "name": "python",
   "nbconvert_exporter": "python",
   "pygments_lexer": "ipython3",
   "version": "3.7.4"
  }
 },
 "nbformat": 4,
 "nbformat_minor": 2
}
